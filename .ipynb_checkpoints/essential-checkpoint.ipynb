{
 "cells": [
  {
   "cell_type": "code",
   "execution_count": 1,
   "id": "bf7e5f4a",
   "metadata": {
    "scrolled": false
   },
   "outputs": [
    {
     "name": "stdout",
     "output_type": "stream",
     "text": [
      "hello World\n"
     ]
    }
   ],
   "source": [
    "print(\"hello World\")"
   ]
  },
  {
   "cell_type": "code",
   "execution_count": 1,
   "id": "e476b744",
   "metadata": {
    "scrolled": true
   },
   "outputs": [
    {
     "data": {
      "application/vnd.jupyter.widget-view+json": {
       "model_id": "9bc5d08cc21c4cb0820e1baf636a6da7",
       "version_major": 2,
       "version_minor": 0
      },
      "text/plain": [
       "IntSlider(value=0)"
      ]
     },
     "metadata": {},
     "output_type": "display_data"
    }
   ],
   "source": [
    "import ipywidgets as widgets\n",
    "widgets.IntSlider()"
   ]
  },
  {
   "cell_type": "code",
   "execution_count": 2,
   "id": "6c6d500f",
   "metadata": {},
   "outputs": [
    {
     "name": "stdout",
     "output_type": "stream",
     "text": [
      "x\n"
     ]
    }
   ],
   "source": [
    "x = 5\n",
    "print(\"x\")"
   ]
  },
  {
   "cell_type": "markdown",
   "id": "a7f4ff4e",
   "metadata": {},
   "source": [
    "> block code is something like this"
   ]
  },
  {
   "cell_type": "markdown",
   "id": "ee625b9c",
   "metadata": {},
   "source": [
    "# heading\n",
    "###### heading\n",
    "## heading"
   ]
  },
  {
   "cell_type": "markdown",
   "id": "048977cb",
   "metadata": {},
   "source": [
    "[go-to-my-gitgub-acc](https://github.com/wminaung)"
   ]
  },
  {
   "cell_type": "markdown",
   "id": "955a4727",
   "metadata": {},
   "source": [
    "[my-pho](../Desktop/images.jpg)\n"
   ]
  },
  {
   "cell_type": "markdown",
   "id": "25b31352",
   "metadata": {},
   "source": [
    "* First Item\n",
    "* Second Item\n",
    "* Third Item"
   ]
  },
  {
   "cell_type": "markdown",
   "id": "ab6b0298",
   "metadata": {},
   "source": [
    "[![my_image](https://img.youtube.com/vi/QUf09DWDCZ8/0.jpg)](https://youtu.be/QUf09DWDCZ8)"
   ]
  },
  {
   "cell_type": "code",
   "execution_count": null,
   "id": "c301bf0c",
   "metadata": {},
   "outputs": [],
   "source": []
  }
 ],
 "metadata": {
  "kernelspec": {
   "display_name": "Python 3 (ipykernel)",
   "language": "python",
   "name": "python3"
  },
  "language_info": {
   "codemirror_mode": {
    "name": "ipython",
    "version": 3
   },
   "file_extension": ".py",
   "mimetype": "text/x-python",
   "name": "python",
   "nbconvert_exporter": "python",
   "pygments_lexer": "ipython3",
   "version": "3.9.7"
  }
 },
 "nbformat": 4,
 "nbformat_minor": 5
}
